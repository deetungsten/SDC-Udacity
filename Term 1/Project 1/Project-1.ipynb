{
 "cells": [
  {
   "cell_type": "markdown",
   "metadata": {},
   "source": [
    " First, all the neccessary libraries need to be imported"
   ]
  },
  {
   "cell_type": "code",
   "execution_count": 2,
   "metadata": {
    "collapsed": false
   },
   "outputs": [],
   "source": [
    "import numpy as np\n",
    "import cv2\n",
    "import statsmodels.formula.api as sm\n",
    "from moviepy.editor import VideoFileClip\n",
    "from IPython.display import HTML"
   ]
  },
  {
   "cell_type": "markdown",
   "metadata": {},
   "source": [
    "Next, I am defining a couple functions that was provided by Udacity. I have modfied some of the code so that it has some of the default parameters defined in the function. By doing so, the parameters do not have to be explicity defined when the function is used."
   ]
  },
  {
   "cell_type": "code",
   "execution_count": 3,
   "metadata": {
    "collapsed": false
   },
   "outputs": [],
   "source": [
    "def grayscale(img):\n",
    "    \"\"\"Applies the Grayscale transform\n",
    "    This will return an image with only one color channel\n",
    "    but NOTE: to see the returned image as grayscale\n",
    "    (assuming your grayscaled image is called 'gray')\n",
    "    you should call plt.imshow(gray, cmap='gray')\"\"\"\n",
    "    return cv2.cvtColor(img, cv2.COLOR_RGB2GRAY)\n",
    "    # Or use BGR2GRAY if you read an image with cv2.imread()\n",
    "    # return cv2.cvtColor(img, cv2.COLOR_BGR2GRAY)\n",
    "\n",
    "\n",
    "def canny(img, low_threshold=50, high_threshold=150):\n",
    "    \"\"\"Applies the Canny transform\"\"\"\n",
    "    return cv2.Canny(img, low_threshold, high_threshold)\n",
    "\n",
    "\n",
    "def gaussian_blur(img, kernel_size=3):\n",
    "    \"\"\"Applies a Gaussian Noise kernel\"\"\"\n",
    "    return cv2.GaussianBlur(img, (kernel_size, kernel_size), 0)\n",
    "\n",
    "\n",
    "def region_of_interest(img, vertices):\n",
    "    \"\"\"\n",
    "    Applies an image mask.\n",
    "\n",
    "    Only keeps the region of the image defined by the polygon\n",
    "    formed from `vertices`. The rest of the image is set to black.\n",
    "    \"\"\"\n",
    "    # defining a blank mask to start with\n",
    "    mask = np.zeros_like(img)\n",
    "\n",
    "    # defining a 3 channel or 1 channel color to fill the mask with depending on the input image\n",
    "    if len(img.shape) > 2:\n",
    "        channel_count = img.shape[2]  # i.e. 3 or 4 depending on your image\n",
    "        ignore_mask_color = (255,) * channel_count\n",
    "    else:\n",
    "        ignore_mask_color = 255\n",
    "\n",
    "    # filling pixels inside the polygon defined by \"vertices\" with the fill color\n",
    "    cv2.fillPoly(mask, np.int32([vertices]), ignore_mask_color)\n",
    "\n",
    "    # returning the image only where mask pixels are nonzero\n",
    "    masked_image = cv2.bitwise_and(img, mask)\n",
    "    return masked_image\n",
    "\n",
    "\n",
    "def hough_lines(img, rho=2, theta=(np.pi/180) , threshold=30, min_line_len=50, max_line_gap=30):\n",
    "    \"\"\"\n",
    "    `img` should be the output of a Canny transform.\n",
    "\n",
    "    Returns an image with hough lines drawn.\n",
    "\n",
    "    rho = 2 # distance resolution in pixels of the Hough grid\n",
    "    theta = np.pi/180 # angular resolution in radians of the Hough grid\n",
    "    threshold = 15     # minimum number of votes (intersections in Hough grid cell)\n",
    "    min_line_length = 40 #minimum number of pixels making up a line\n",
    "    max_line_gap = 20    # maximum gap in pixels between connectable line segments\n",
    "    line_image = np.copy(image)*0 # creating a blank to draw lines on\n",
    "    \"\"\"\n",
    "    lines = cv2.HoughLinesP(img, rho, theta, threshold, np.array([]), minLineLength=min_line_len,\n",
    "                            maxLineGap=max_line_gap)\n",
    "    line_img = np.zeros((img.shape[0], img.shape[1], 3), dtype=np.uint8)\n",
    "    draw_lines(line_img, lines)\n",
    "    return line_img\n",
    "\n",
    "\n",
    "# Python 3 has support for cool math symbols.\n",
    "\n",
    "def weighted_img(img, initial_img, α=0.8, β=1., λ=0.):\n",
    "    \"\"\"\n",
    "    `img` is the output of the hough_lines(), An image with lines drawn on it.\n",
    "    Should be a blank image (all black) with lines drawn on it.\n",
    "\n",
    "    `initial_img` should be the image before any processing.\n",
    "\n",
    "    The result image is computed as follows:\n",
    "\n",
    "    initial_img * α + img * β + λ\n",
    "    NOTE: initial_img and img must be the same shape!\n",
    "    \"\"\"\n",
    "    return cv2.addWeighted(initial_img, α, img, β, λ)\n",
    "\n",
    "\n",
    "def draw_lines(img, lines, color=[255, 0, 0], thickness=2):\n",
    "    \"\"\"\n",
    "    NOTE: this is the function you might want to use as a starting point once you want to\n",
    "    average/extrapolate the line segments you detect to map out the full\n",
    "    extent of the lane (going from the result shown in raw-lines-example.mp4\n",
    "    to that shown in P1_example.mp4).\n",
    "\n",
    "    Think about things like separating line segments by their\n",
    "    slope ((y2-y1)/(x2-x1)) to decide which segments are part of the left\n",
    "    line vs. the right line.  Then, you can average the position of each of\n",
    "    the lines and extrapolate to the top and bottom of the lane.\n",
    "\n",
    "    This function draws `lines` with `color` and `thickness`.\n",
    "    Lines are drawn on the image inplace (mutates the image).\n",
    "    If you want to make the lines semi-transparent, think about combining\n",
    "    this function with the weighted_img() function below\n",
    "    \"\"\"\n",
    "    for line in lines:\n",
    "        for x1, y1, x2, y2 in line:\n",
    "            cv2.line(img, (x1, y1), (x2, y2), color, thickness)"
   ]
  },
  {
   "cell_type": "markdown",
   "metadata": {},
   "source": [
    "Next, I defined a function that I wrote calleds **lines2fit**. This function essentially takes the lines data from Hough transform and coverts the data into greyscale. This makes the data easier to handle since each pixel is now only one integer (compared to three for a RGB image). Then, we take the grayscale data and find the pixel locations which has a value greater than 0. These pixel locations signfies where there is a line. Afterwards, the pixel locations are put through a linear regression to make a function that represents the line. Then, a function fit is used to determine the pixel closest to the bottom of the image and near the middle of the image. Lastly, the line on the image is drawn using the **drawlines** function from OpenCV."
   ]
  },
  {
   "cell_type": "code",
   "execution_count": 4,
   "metadata": {
    "collapsed": true
   },
   "outputs": [],
   "source": [
    "def lines2fit(image,lines):\n",
    "\n",
    "    final_gray = grayscale(lines)\n",
    "\n",
    "    y_loc, x_loc = np.where(final_gray > 0)\n",
    "\n",
    "    data = {\"a\": x_loc, \"b\":y_loc}\n",
    "    model_lin = sm.ols(formula='a ~ b', data=data)\n",
    "    result_lin = model_lin.fit()\n",
    "    #print(result.summary())\n",
    "    model_curve = sm.ols(formula='a ~ np.power(b, 2)', data=data)\n",
    "    result_curve = model_curve.fit()\n",
    "\n",
    "    mask_lines = np.zeros_like(image)\n",
    "\n",
    "    y_bottom = image.shape[0]\n",
    "    y_top = int(round(image.shape[0] * .6))\n",
    "\n",
    "\n",
    "\n",
    "    x_pred_bottom = int(round((result_lin.params[1] * (y_bottom) + result_lin.params[0])))\n",
    "    x_pred_top = int(round((result_lin.params[1] * (y_top) + result_lin.params[0])))\n",
    "\n",
    "    #else:\n",
    "    #    x_pred_bottom = int(round((result_curve.params[1] * np.power(y_bottom, 2) + result_curve.params[0])))\n",
    "    #    x_pred_top = int(round((result_curve.params[1] * np.power(y_top, 2) + result_curve.params[0])))\n",
    "\n",
    "    linemask = cv2.line(mask_lines, (x_pred_bottom, y_bottom), (x_pred_top, y_top), color=[255, 0, 0],\n",
    "                    thickness=10)\n",
    "\n",
    "    return linemask"
   ]
  },
  {
   "cell_type": "markdown",
   "metadata": {},
   "source": [
    "I just the skills that we were taught through lesson 2 to create the next function **processimage**. The flow process is the following:\n",
    "       1) Split the image into two region for each lane (left and right)\n",
    "       2) Use the Gaussian Blur function\n",
    "       3) Use the Canny Edge Detection Algorithm \n",
    "       4) Apply the Hough Tranform\n",
    "       5) Mask the region into two using the regions defined in step 1 \n",
    "       6) Use the lines2fit function in the previous cell\n",
    "       7) Use the weighted_img to overlay the modified result and original image"
   ]
  },
  {
   "cell_type": "code",
   "execution_count": 5,
   "metadata": {
    "collapsed": true
   },
   "outputs": [],
   "source": [
    "def process_image(image):\n",
    "    # NOTE: The output you return should be a color image (3 channel) for processing video below\n",
    "    # TODO: put your pipeline here,\n",
    "    # you should return the final output (image with lines are drawn on lanes)\n",
    "\n",
    "    gray = grayscale(image)\n",
    "    x_start_point = .14\n",
    "    y_start_point = 1\n",
    "\n",
    "    x_offset_percent = .42\n",
    "    y_offset_percent = 0.64\n",
    "    center_offset = 0.05\n",
    "\n",
    "    left_bottom = [int(round(x_start_point * image.shape[1])), int(round(y_start_point * image.shape[0]))]\n",
    "    left_top = [int(round(x_offset_percent * image.shape[1])), int(round(y_offset_percent * image.shape[0]))]\n",
    "    center_top = [int(round((.5 + center_offset) * image.shape[1])), int(round(y_offset_percent * image.shape[0]))]\n",
    "    center_bottom = [int(round((.5 + center_offset) * image.shape[1])), int(round(y_start_point * image.shape[0]))]\n",
    "\n",
    "    right_bottom = [int(round((1 - x_start_point + center_offset) * image.shape[1])),\n",
    "                    int(round(y_start_point * image.shape[0]))]\n",
    "    right_top = [int(round((1 - x_offset_percent + center_offset) * image.shape[1])),\n",
    "                 int(round(y_offset_percent * image.shape[0]))]\n",
    "\n",
    "    left_vertices = np.array([left_bottom, left_top, center_top, center_bottom], np.int32)\n",
    "    right_vertices = np.array([right_bottom, right_top, center_top, center_bottom], np.int32)\n",
    "\n",
    "    blur_gray = gaussian_blur(gray)\n",
    "\n",
    "    edges = canny(blur_gray)\n",
    "\n",
    "    lines = hough_lines(edges)\n",
    "\n",
    "    left_lines = region_of_interest(lines, left_vertices)\n",
    "    right_lines = region_of_interest(lines, right_vertices)\n",
    "\n",
    "\n",
    "\n",
    "    left_mask = lines2fit(image,left_lines)\n",
    "    right_mask = lines2fit(image,right_lines)\n",
    "\n",
    "    pre_image = weighted_img(left_mask, image)\n",
    "    final_image = weighted_img(right_mask, pre_image)\n",
    "    #plt.imshow(final_image)\n",
    "    #plt.show()\n",
    "\n",
    "    return final_image"
   ]
  },
  {
   "cell_type": "markdown",
   "metadata": {},
   "source": [
    "Last but not least, the video file is pipelined into the processimage function to create the final video with the lane detection algorithm"
   ]
  },
  {
   "cell_type": "code",
   "execution_count": 6,
   "metadata": {
    "collapsed": false
   },
   "outputs": [
    {
     "name": "stdout",
     "output_type": "stream",
     "text": [
      "[MoviePy] >>>> Building video output1.mp4\n",
      "[MoviePy] Writing video output1.mp4\n"
     ]
    },
    {
     "name": "stderr",
     "output_type": "stream",
     "text": [
      "100%|█████████▉| 221/222 [00:48<00:00,  4.92it/s]\n"
     ]
    },
    {
     "name": "stdout",
     "output_type": "stream",
     "text": [
      "[MoviePy] Done.\n",
      "[MoviePy] >>>> Video ready: output1.mp4 \n",
      "\n",
      "[MoviePy] >>>> Building video output2.mp4\n",
      "[MoviePy] Writing video output2.mp4\n"
     ]
    },
    {
     "name": "stderr",
     "output_type": "stream",
     "text": [
      "100%|█████████▉| 681/682 [02:38<00:00,  3.80it/s]\n"
     ]
    },
    {
     "name": "stdout",
     "output_type": "stream",
     "text": [
      "[MoviePy] Done.\n",
      "[MoviePy] >>>> Video ready: output2.mp4 \n",
      "\n"
     ]
    }
   ],
   "source": [
    "white_output = 'output1.mp4'\n",
    "clip1 = VideoFileClip(\"solidWhiteRight.mp4\")\n",
    "white_clip = clip1.fl_image(process_image) #NOTE: this function expects color images!!\n",
    "white_clip.write_videofile(white_output, audio=False)\n",
    "\n",
    "\n",
    "yellow_output = 'output2.mp4'\n",
    "clip2 = VideoFileClip(\"solidYellowLeft.mp4\")\n",
    "yellow_clip = clip2.fl_image(process_image) #NOTE: this function expects color images!!\n",
    "yellow_clip.write_videofile(yellow_output, audio=False)"
   ]
  },
  {
   "cell_type": "code",
   "execution_count": 7,
   "metadata": {
    "collapsed": false
   },
   "outputs": [
    {
     "data": {
      "text/html": [
       "\n",
       "<video width=\"960\" height=\"540\" controls>\n",
       "  <source src=\"output1.mp4\">\n",
       "</video>\n"
      ],
      "text/plain": [
       "<IPython.core.display.HTML object>"
      ]
     },
     "execution_count": 7,
     "metadata": {},
     "output_type": "execute_result"
    }
   ],
   "source": [
    "HTML(\"\"\"\n",
    "<video width=\"960\" height=\"540\" controls>\n",
    "  <source src=\"{0}\">\n",
    "</video>\n",
    "\"\"\".format(white_output))\n",
    "\n",
    "\n",
    "\n",
    "\n",
    "\n"
   ]
  },
  {
   "cell_type": "code",
   "execution_count": 8,
   "metadata": {
    "collapsed": false
   },
   "outputs": [
    {
     "data": {
      "text/html": [
       "\n",
       "<video width=\"960\" height=\"540\" controls>\n",
       "  <source src=\"output2.mp4\">\n",
       "</video>\n"
      ],
      "text/plain": [
       "<IPython.core.display.HTML object>"
      ]
     },
     "execution_count": 8,
     "metadata": {},
     "output_type": "execute_result"
    }
   ],
   "source": [
    "HTML(\"\"\"\n",
    "<video width=\"960\" height=\"540\" controls>\n",
    "  <source src=\"{0}\">\n",
    "</video>\n",
    "\"\"\".format(yellow_output))"
   ]
  },
  {
   "cell_type": "markdown",
   "metadata": {
    "collapsed": true
   },
   "source": [
    "# Reflections\n",
    "\n",
    "The biggest challenge for me in this project was to brush up on my Python 3. I have always been coding in Python 2 so I figured it was a good time to transition to Python 3. Also, for some reason finding the location of the pixel where for the regression took me longer than expected. I originally tried using the RGB array to find the pixel location but splitting the array up into only into a 2D array took too much work so I resorted to the grayscale function. Also, I was too used to matlab and I declared the function to a single variable and I expected to be able to split the array up conveniently but it didn't work.\n",
    "\n",
    "I tried to fit the lines to the function ax^2+ b and ax+b and compared either the r-squared results or AIC/BIC to see which model fit better. Unfortunately the results were really bad. Ideally, I would fit it to ax^2 +bx + c but it would overfit the points. Ideally, I would like to try to fit to a couple order of polynomials and use a k-crossfold to see which one fits the best without overfitting. I would love to try this out if I get more time to work on this project.\n",
    "\n",
    "The negative aspect of my program is that the side with the sectioned lines tend to be shaky. I adjusted my values according to the suggestion to my original project review and the results ended much better! To get the best results, I would build some sort of LSTM regression or use a moving average on the input value of the regression to get better results. Side note, I love hearing critism (positive or negative!) so don't worry about writing too much! I would enjoy reading all of it! I really enjoyed the link you provided me for better coding practices. I picked up way too many bad coding practices since I was a teenager and I haven't really code enough to get rid of them (I\"m a mechanical engineer so I haven't got much chance to code professionally). I think these next 9 months would be a great opportunity to become a better coder.\n",
    "\n",
    "Overall, it was really fun to learn about the OpenCV API and implement it on this project. It was really fun and satisfying to see the final results to work! I plan on learning more about computer vision on the side and see if I can do any additional fun side projects. I heard that Udacity might setup something so that students can get paid for side-work and I would love to join to learn more! \n",
    "\n"
   ]
  }
 ],
 "metadata": {
  "anaconda-cloud": {},
  "kernelspec": {
   "display_name": "Python [default]",
   "language": "python",
   "name": "python3"
  },
  "language_info": {
   "codemirror_mode": {
    "name": "ipython",
    "version": 3
   },
   "file_extension": ".py",
   "mimetype": "text/x-python",
   "name": "python",
   "nbconvert_exporter": "python",
   "pygments_lexer": "ipython3",
   "version": "3.5.2"
  }
 },
 "nbformat": 4,
 "nbformat_minor": 1
}
